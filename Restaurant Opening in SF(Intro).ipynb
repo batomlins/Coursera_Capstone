{
    "cells": [
        {
            "cell_type": "markdown",
            "metadata": {
                "collapsed": true
            },
            "source": "# Opening a new Pizze Place in San Francisco California"
        },
        {
            "cell_type": "markdown",
            "metadata": {},
            "source": "## 1. Introduction"
        },
        {
            "cell_type": "markdown",
            "metadata": {},
            "source": "### Introduction/Business Problem"
        },
        {
            "cell_type": "markdown",
            "metadata": {},
            "source": "Odd Moe's pizza is a local chain in NW Oregon region and in this scenario the business is looking to expand out of Oregon and into California, specifically San Francisco area. San Francisco already has a large amount of Pizza restaurants, but they are looking to compete and break into the market. Odd Moe's is confident that they can offer a new pizza experience but wants to run their new site in a safe environement and area of the City."
        },
        {
            "cell_type": "markdown",
            "metadata": {},
            "source": "### Audience"
        },
        {
            "cell_type": "markdown",
            "metadata": {},
            "source": "The information discovered in the report will be of primary interest to the Odd Moe's head office, but it could also be of interest to any other pizza chains that are looking to expand into San Francisco in a safe environment."
        },
        {
            "cell_type": "markdown",
            "metadata": {},
            "source": "## 2. Data for the"
        }
    ],
    "metadata": {
        "kernelspec": {
            "display_name": "Python 3.7",
            "language": "python",
            "name": "python3"
        },
        "language_info": {
            "codemirror_mode": {
                "name": "ipython",
                "version": 3
            },
            "file_extension": ".py",
            "mimetype": "text/x-python",
            "name": "python",
            "nbconvert_exporter": "python",
            "pygments_lexer": "ipython3",
            "version": "3.7.9"
        }
    },
    "nbformat": 4,
    "nbformat_minor": 1
}